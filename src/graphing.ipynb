{
 "cells": [
  {
   "cell_type": "code",
   "execution_count": 56,
   "metadata": {},
   "outputs": [],
   "source": [
    "import numpy as np\n",
    "import plotly.express as px\n",
    "from tools.utils import query_database\n",
    "import pandas as pd\n",
    "import psycopg2\n",
    "import cv2\n",
    "import matplotlib.pyplot as plt\n",
    "import plotly.graph_objects as go"
   ]
  },
  {
   "cell_type": "markdown",
   "metadata": {},
   "source": [
    "**Graphs**\n",
    "\n",
    "- best models\n",
    "- best accuracy\n",
    "- best preprocesing\n",
    "- loss\n",
    "- accuracy\n"
   ]
  },
  {
   "cell_type": "markdown",
   "metadata": {},
   "source": [
    "# Top Performing\n"
   ]
  },
  {
   "cell_type": "code",
   "execution_count": 69,
   "metadata": {},
   "outputs": [
    {
     "data": {
      "text/html": [
       "<div>\n",
       "<style scoped>\n",
       "    .dataframe tbody tr th:only-of-type {\n",
       "        vertical-align: middle;\n",
       "    }\n",
       "\n",
       "    .dataframe tbody tr th {\n",
       "        vertical-align: top;\n",
       "    }\n",
       "\n",
       "    .dataframe thead th {\n",
       "        text-align: right;\n",
       "    }\n",
       "</style>\n",
       "<table border=\"1\" class=\"dataframe\">\n",
       "  <thead>\n",
       "    <tr style=\"text-align: right;\">\n",
       "      <th></th>\n",
       "      <th>x_value</th>\n",
       "      <th>y_value</th>\n",
       "    </tr>\n",
       "  </thead>\n",
       "  <tbody>\n",
       "    <tr>\n",
       "      <th>0</th>\n",
       "      <td>resnet18_transfer, cqt, adam, t, 36</td>\n",
       "      <td>0.589558</td>\n",
       "    </tr>\n",
       "    <tr>\n",
       "      <th>1</th>\n",
       "      <td>resnet18, combined2, adam, 29</td>\n",
       "      <td>0.983839</td>\n",
       "    </tr>\n",
       "    <tr>\n",
       "      <th>2</th>\n",
       "      <td>resnet18_transfer, cqt, adam, t, 40</td>\n",
       "      <td>0.670566</td>\n",
       "    </tr>\n",
       "    <tr>\n",
       "      <th>3</th>\n",
       "      <td>resnet18, cqt, adam, f, 31</td>\n",
       "      <td>0.613323</td>\n",
       "    </tr>\n",
       "  </tbody>\n",
       "</table>\n",
       "</div>"
      ],
      "text/plain": [
       "                               x_value   y_value\n",
       "0  resnet18_transfer, cqt, adam, t, 36  0.589558\n",
       "1        resnet18, combined2, adam, 29  0.983839\n",
       "2  resnet18_transfer, cqt, adam, t, 40  0.670566\n",
       "3           resnet18, cqt, adam, f, 31  0.613323"
      ]
     },
     "execution_count": 69,
     "metadata": {},
     "output_type": "execute_result"
    }
   ],
   "source": [
    "query = \"\"\"\n",
    "with noShot as (\n",
    "select\n",
    "    m.name, m.preprocessing, d.shot, d.shuffle, d.optimiser, e.epoch, r.value\n",
    "from\n",
    "    model m\n",
    "    join cnn_data d on m.id = d.model_id\n",
    "    join epoch e on m.id = e.model_id\n",
    "    join cnn_result r on e.id = r.epoch_id\n",
    "where \n",
    "    m.type = 'cnn' and d.shot is null and r.type = 'Accuracy' and d.optimiser = 'adam'\n",
    "order by\n",
    "    r.value desc\n",
    "limit 1\n",
    "),\n",
    "fiveShot as (\n",
    "select\n",
    "    m.name, m.preprocessing, d.shot, d.shuffle, d.optimiser, e.epoch, r.value\n",
    "from\n",
    "    model m\n",
    "    join cnn_data d on m.id = d.model_id\n",
    "    join epoch e on m.id = e.model_id\n",
    "    join cnn_result r on e.id = r.epoch_id\n",
    "where \n",
    "    m.type = 'cnn' and d.shot = 5 and r.type = 'Accuracy' and d.optimiser = 'adam'\n",
    "order by\n",
    "    r.value desc\n",
    "limit 1\n",
    "),\n",
    "tenShot as (\n",
    "select\n",
    "    m.name, m.preprocessing, d.shot, d.shuffle, d.optimiser, e.epoch, r.value\n",
    "from\n",
    "    model m\n",
    "    join cnn_data d on m.id = d.model_id\n",
    "    join epoch e on m.id = e.model_id\n",
    "    join cnn_result r on e.id = r.epoch_id\n",
    "where \n",
    "    m.type = 'cnn' and d.shot = 10 and r.type = 'Accuracy' and d.optimiser = 'adam'\n",
    "order by\n",
    "    r.value desc\n",
    "limit 1\n",
    "),\n",
    "fifthteenShot as (\n",
    "select\n",
    "    m.name, m.preprocessing, d.shot, d.shuffle, d.optimiser, e.epoch, r.value\n",
    "from\n",
    "    model m\n",
    "    join cnn_data d on m.id = d.model_id\n",
    "    join epoch e on m.id = e.model_id\n",
    "    join cnn_result r on e.id = r.epoch_id\n",
    "where \n",
    "    m.type = 'cnn' and d.shot = 15 and r.type = 'Accuracy' and d.optimiser = 'adam'\n",
    "order by\n",
    "    r.value desc\n",
    "limit 1\n",
    "),\n",
    "combined as (\n",
    "select * from noShot\n",
    "union\n",
    "select * from fiveShot\n",
    "union\n",
    "select * from tenShot\n",
    "union\n",
    "select * from fifthteenShot\n",
    ")\n",
    "select\n",
    "    concat_ws(', ', name, preprocessing, optimiser, shuffle, epoch) as x_value, value as y_value\n",
    "from combined\n",
    "\"\"\"\n",
    "\n",
    "columns, rows = query_database(query)\n",
    "\n",
    "df = pd.DataFrame(rows, columns=columns)\n",
    "df[\"y_value\"] = df[\"y_value\"].astype(float)\n",
    "df[\"x_value\"] = df[\"x_value\"].astype(str)\n",
    "df"
   ]
  },
  {
   "cell_type": "code",
   "execution_count": 70,
   "metadata": {},
   "outputs": [
    {
     "data": {
      "application/vnd.plotly.v1+json": {
       "config": {
        "plotlyServerURL": "https://plot.ly"
       },
       "data": [
        {
         "text": [
          0.5895581245422363,
          0.983839213848114,
          0.6705657839775085,
          0.613323450088501
         ],
         "textposition": "auto",
         "type": "bar",
         "x": [
          "resnet18_transfer, cqt, adam, t, 36",
          "resnet18, combined2, adam, 29",
          "resnet18_transfer, cqt, adam, t, 40",
          "resnet18, cqt, adam, f, 31"
         ],
         "y": [
          0.5895581245422363,
          0.983839213848114,
          0.6705657839775085,
          0.613323450088501
         ]
        }
       ],
       "layout": {
        "template": {
         "data": {
          "bar": [
           {
            "error_x": {
             "color": "#2a3f5f"
            },
            "error_y": {
             "color": "#2a3f5f"
            },
            "marker": {
             "line": {
              "color": "#E5ECF6",
              "width": 0.5
             },
             "pattern": {
              "fillmode": "overlay",
              "size": 10,
              "solidity": 0.2
             }
            },
            "type": "bar"
           }
          ],
          "barpolar": [
           {
            "marker": {
             "line": {
              "color": "#E5ECF6",
              "width": 0.5
             },
             "pattern": {
              "fillmode": "overlay",
              "size": 10,
              "solidity": 0.2
             }
            },
            "type": "barpolar"
           }
          ],
          "carpet": [
           {
            "aaxis": {
             "endlinecolor": "#2a3f5f",
             "gridcolor": "white",
             "linecolor": "white",
             "minorgridcolor": "white",
             "startlinecolor": "#2a3f5f"
            },
            "baxis": {
             "endlinecolor": "#2a3f5f",
             "gridcolor": "white",
             "linecolor": "white",
             "minorgridcolor": "white",
             "startlinecolor": "#2a3f5f"
            },
            "type": "carpet"
           }
          ],
          "choropleth": [
           {
            "colorbar": {
             "outlinewidth": 0,
             "ticks": ""
            },
            "type": "choropleth"
           }
          ],
          "contour": [
           {
            "colorbar": {
             "outlinewidth": 0,
             "ticks": ""
            },
            "colorscale": [
             [
              0,
              "#0d0887"
             ],
             [
              0.1111111111111111,
              "#46039f"
             ],
             [
              0.2222222222222222,
              "#7201a8"
             ],
             [
              0.3333333333333333,
              "#9c179e"
             ],
             [
              0.4444444444444444,
              "#bd3786"
             ],
             [
              0.5555555555555556,
              "#d8576b"
             ],
             [
              0.6666666666666666,
              "#ed7953"
             ],
             [
              0.7777777777777778,
              "#fb9f3a"
             ],
             [
              0.8888888888888888,
              "#fdca26"
             ],
             [
              1,
              "#f0f921"
             ]
            ],
            "type": "contour"
           }
          ],
          "contourcarpet": [
           {
            "colorbar": {
             "outlinewidth": 0,
             "ticks": ""
            },
            "type": "contourcarpet"
           }
          ],
          "heatmap": [
           {
            "colorbar": {
             "outlinewidth": 0,
             "ticks": ""
            },
            "colorscale": [
             [
              0,
              "#0d0887"
             ],
             [
              0.1111111111111111,
              "#46039f"
             ],
             [
              0.2222222222222222,
              "#7201a8"
             ],
             [
              0.3333333333333333,
              "#9c179e"
             ],
             [
              0.4444444444444444,
              "#bd3786"
             ],
             [
              0.5555555555555556,
              "#d8576b"
             ],
             [
              0.6666666666666666,
              "#ed7953"
             ],
             [
              0.7777777777777778,
              "#fb9f3a"
             ],
             [
              0.8888888888888888,
              "#fdca26"
             ],
             [
              1,
              "#f0f921"
             ]
            ],
            "type": "heatmap"
           }
          ],
          "heatmapgl": [
           {
            "colorbar": {
             "outlinewidth": 0,
             "ticks": ""
            },
            "colorscale": [
             [
              0,
              "#0d0887"
             ],
             [
              0.1111111111111111,
              "#46039f"
             ],
             [
              0.2222222222222222,
              "#7201a8"
             ],
             [
              0.3333333333333333,
              "#9c179e"
             ],
             [
              0.4444444444444444,
              "#bd3786"
             ],
             [
              0.5555555555555556,
              "#d8576b"
             ],
             [
              0.6666666666666666,
              "#ed7953"
             ],
             [
              0.7777777777777778,
              "#fb9f3a"
             ],
             [
              0.8888888888888888,
              "#fdca26"
             ],
             [
              1,
              "#f0f921"
             ]
            ],
            "type": "heatmapgl"
           }
          ],
          "histogram": [
           {
            "marker": {
             "pattern": {
              "fillmode": "overlay",
              "size": 10,
              "solidity": 0.2
             }
            },
            "type": "histogram"
           }
          ],
          "histogram2d": [
           {
            "colorbar": {
             "outlinewidth": 0,
             "ticks": ""
            },
            "colorscale": [
             [
              0,
              "#0d0887"
             ],
             [
              0.1111111111111111,
              "#46039f"
             ],
             [
              0.2222222222222222,
              "#7201a8"
             ],
             [
              0.3333333333333333,
              "#9c179e"
             ],
             [
              0.4444444444444444,
              "#bd3786"
             ],
             [
              0.5555555555555556,
              "#d8576b"
             ],
             [
              0.6666666666666666,
              "#ed7953"
             ],
             [
              0.7777777777777778,
              "#fb9f3a"
             ],
             [
              0.8888888888888888,
              "#fdca26"
             ],
             [
              1,
              "#f0f921"
             ]
            ],
            "type": "histogram2d"
           }
          ],
          "histogram2dcontour": [
           {
            "colorbar": {
             "outlinewidth": 0,
             "ticks": ""
            },
            "colorscale": [
             [
              0,
              "#0d0887"
             ],
             [
              0.1111111111111111,
              "#46039f"
             ],
             [
              0.2222222222222222,
              "#7201a8"
             ],
             [
              0.3333333333333333,
              "#9c179e"
             ],
             [
              0.4444444444444444,
              "#bd3786"
             ],
             [
              0.5555555555555556,
              "#d8576b"
             ],
             [
              0.6666666666666666,
              "#ed7953"
             ],
             [
              0.7777777777777778,
              "#fb9f3a"
             ],
             [
              0.8888888888888888,
              "#fdca26"
             ],
             [
              1,
              "#f0f921"
             ]
            ],
            "type": "histogram2dcontour"
           }
          ],
          "mesh3d": [
           {
            "colorbar": {
             "outlinewidth": 0,
             "ticks": ""
            },
            "type": "mesh3d"
           }
          ],
          "parcoords": [
           {
            "line": {
             "colorbar": {
              "outlinewidth": 0,
              "ticks": ""
             }
            },
            "type": "parcoords"
           }
          ],
          "pie": [
           {
            "automargin": true,
            "type": "pie"
           }
          ],
          "scatter": [
           {
            "fillpattern": {
             "fillmode": "overlay",
             "size": 10,
             "solidity": 0.2
            },
            "type": "scatter"
           }
          ],
          "scatter3d": [
           {
            "line": {
             "colorbar": {
              "outlinewidth": 0,
              "ticks": ""
             }
            },
            "marker": {
             "colorbar": {
              "outlinewidth": 0,
              "ticks": ""
             }
            },
            "type": "scatter3d"
           }
          ],
          "scattercarpet": [
           {
            "marker": {
             "colorbar": {
              "outlinewidth": 0,
              "ticks": ""
             }
            },
            "type": "scattercarpet"
           }
          ],
          "scattergeo": [
           {
            "marker": {
             "colorbar": {
              "outlinewidth": 0,
              "ticks": ""
             }
            },
            "type": "scattergeo"
           }
          ],
          "scattergl": [
           {
            "marker": {
             "colorbar": {
              "outlinewidth": 0,
              "ticks": ""
             }
            },
            "type": "scattergl"
           }
          ],
          "scattermapbox": [
           {
            "marker": {
             "colorbar": {
              "outlinewidth": 0,
              "ticks": ""
             }
            },
            "type": "scattermapbox"
           }
          ],
          "scatterpolar": [
           {
            "marker": {
             "colorbar": {
              "outlinewidth": 0,
              "ticks": ""
             }
            },
            "type": "scatterpolar"
           }
          ],
          "scatterpolargl": [
           {
            "marker": {
             "colorbar": {
              "outlinewidth": 0,
              "ticks": ""
             }
            },
            "type": "scatterpolargl"
           }
          ],
          "scatterternary": [
           {
            "marker": {
             "colorbar": {
              "outlinewidth": 0,
              "ticks": ""
             }
            },
            "type": "scatterternary"
           }
          ],
          "surface": [
           {
            "colorbar": {
             "outlinewidth": 0,
             "ticks": ""
            },
            "colorscale": [
             [
              0,
              "#0d0887"
             ],
             [
              0.1111111111111111,
              "#46039f"
             ],
             [
              0.2222222222222222,
              "#7201a8"
             ],
             [
              0.3333333333333333,
              "#9c179e"
             ],
             [
              0.4444444444444444,
              "#bd3786"
             ],
             [
              0.5555555555555556,
              "#d8576b"
             ],
             [
              0.6666666666666666,
              "#ed7953"
             ],
             [
              0.7777777777777778,
              "#fb9f3a"
             ],
             [
              0.8888888888888888,
              "#fdca26"
             ],
             [
              1,
              "#f0f921"
             ]
            ],
            "type": "surface"
           }
          ],
          "table": [
           {
            "cells": {
             "fill": {
              "color": "#EBF0F8"
             },
             "line": {
              "color": "white"
             }
            },
            "header": {
             "fill": {
              "color": "#C8D4E3"
             },
             "line": {
              "color": "white"
             }
            },
            "type": "table"
           }
          ]
         },
         "layout": {
          "annotationdefaults": {
           "arrowcolor": "#2a3f5f",
           "arrowhead": 0,
           "arrowwidth": 1
          },
          "autotypenumbers": "strict",
          "coloraxis": {
           "colorbar": {
            "outlinewidth": 0,
            "ticks": ""
           }
          },
          "colorscale": {
           "diverging": [
            [
             0,
             "#8e0152"
            ],
            [
             0.1,
             "#c51b7d"
            ],
            [
             0.2,
             "#de77ae"
            ],
            [
             0.3,
             "#f1b6da"
            ],
            [
             0.4,
             "#fde0ef"
            ],
            [
             0.5,
             "#f7f7f7"
            ],
            [
             0.6,
             "#e6f5d0"
            ],
            [
             0.7,
             "#b8e186"
            ],
            [
             0.8,
             "#7fbc41"
            ],
            [
             0.9,
             "#4d9221"
            ],
            [
             1,
             "#276419"
            ]
           ],
           "sequential": [
            [
             0,
             "#0d0887"
            ],
            [
             0.1111111111111111,
             "#46039f"
            ],
            [
             0.2222222222222222,
             "#7201a8"
            ],
            [
             0.3333333333333333,
             "#9c179e"
            ],
            [
             0.4444444444444444,
             "#bd3786"
            ],
            [
             0.5555555555555556,
             "#d8576b"
            ],
            [
             0.6666666666666666,
             "#ed7953"
            ],
            [
             0.7777777777777778,
             "#fb9f3a"
            ],
            [
             0.8888888888888888,
             "#fdca26"
            ],
            [
             1,
             "#f0f921"
            ]
           ],
           "sequentialminus": [
            [
             0,
             "#0d0887"
            ],
            [
             0.1111111111111111,
             "#46039f"
            ],
            [
             0.2222222222222222,
             "#7201a8"
            ],
            [
             0.3333333333333333,
             "#9c179e"
            ],
            [
             0.4444444444444444,
             "#bd3786"
            ],
            [
             0.5555555555555556,
             "#d8576b"
            ],
            [
             0.6666666666666666,
             "#ed7953"
            ],
            [
             0.7777777777777778,
             "#fb9f3a"
            ],
            [
             0.8888888888888888,
             "#fdca26"
            ],
            [
             1,
             "#f0f921"
            ]
           ]
          },
          "colorway": [
           "#636efa",
           "#EF553B",
           "#00cc96",
           "#ab63fa",
           "#FFA15A",
           "#19d3f3",
           "#FF6692",
           "#B6E880",
           "#FF97FF",
           "#FECB52"
          ],
          "font": {
           "color": "#2a3f5f"
          },
          "geo": {
           "bgcolor": "white",
           "lakecolor": "white",
           "landcolor": "#E5ECF6",
           "showlakes": true,
           "showland": true,
           "subunitcolor": "white"
          },
          "hoverlabel": {
           "align": "left"
          },
          "hovermode": "closest",
          "mapbox": {
           "style": "light"
          },
          "paper_bgcolor": "white",
          "plot_bgcolor": "#E5ECF6",
          "polar": {
           "angularaxis": {
            "gridcolor": "white",
            "linecolor": "white",
            "ticks": ""
           },
           "bgcolor": "#E5ECF6",
           "radialaxis": {
            "gridcolor": "white",
            "linecolor": "white",
            "ticks": ""
           }
          },
          "scene": {
           "xaxis": {
            "backgroundcolor": "#E5ECF6",
            "gridcolor": "white",
            "gridwidth": 2,
            "linecolor": "white",
            "showbackground": true,
            "ticks": "",
            "zerolinecolor": "white"
           },
           "yaxis": {
            "backgroundcolor": "#E5ECF6",
            "gridcolor": "white",
            "gridwidth": 2,
            "linecolor": "white",
            "showbackground": true,
            "ticks": "",
            "zerolinecolor": "white"
           },
           "zaxis": {
            "backgroundcolor": "#E5ECF6",
            "gridcolor": "white",
            "gridwidth": 2,
            "linecolor": "white",
            "showbackground": true,
            "ticks": "",
            "zerolinecolor": "white"
           }
          },
          "shapedefaults": {
           "line": {
            "color": "#2a3f5f"
           }
          },
          "ternary": {
           "aaxis": {
            "gridcolor": "white",
            "linecolor": "white",
            "ticks": ""
           },
           "baxis": {
            "gridcolor": "white",
            "linecolor": "white",
            "ticks": ""
           },
           "bgcolor": "#E5ECF6",
           "caxis": {
            "gridcolor": "white",
            "linecolor": "white",
            "ticks": ""
           }
          },
          "title": {
           "x": 0.05
          },
          "xaxis": {
           "automargin": true,
           "gridcolor": "white",
           "linecolor": "white",
           "ticks": "",
           "title": {
            "standoff": 15
           },
           "zerolinecolor": "white",
           "zerolinewidth": 2
          },
          "yaxis": {
           "automargin": true,
           "gridcolor": "white",
           "linecolor": "white",
           "ticks": "",
           "title": {
            "standoff": 15
           },
           "zerolinecolor": "white",
           "zerolinewidth": 2
          }
         }
        },
        "title": {
         "text": "Top Performing Models of Each Shot"
        },
        "xaxis": {
         "title": {
          "text": "Shot"
         }
        },
        "yaxis": {
         "title": {
          "text": "Accuracy"
         }
        }
       }
      }
     },
     "metadata": {},
     "output_type": "display_data"
    }
   ],
   "source": [
    "x = df[\"x_value\"]\n",
    "y = df[\"y_value\"]\n",
    "\n",
    "fig = go.Figure(\n",
    "    data=[\n",
    "        go.Bar(\n",
    "            x=x,\n",
    "            y=y,\n",
    "            text=y,\n",
    "            textposition=\"auto\",\n",
    "        )\n",
    "    ]\n",
    ")\n",
    "fig.update_layout(\n",
    "    title=\"Top Performing Models of Each Shot\",\n",
    "    xaxis_title=\"Shot\",\n",
    "    yaxis_title=\"Accuracy\",\n",
    ")\n",
    "fig.show()"
   ]
  },
  {
   "cell_type": "markdown",
   "metadata": {},
   "source": [
    "# Heatmap\n"
   ]
  },
  {
   "cell_type": "code",
   "execution_count": 116,
   "metadata": {},
   "outputs": [
    {
     "data": {
      "text/html": [
       "<div>\n",
       "<style scoped>\n",
       "    .dataframe tbody tr th:only-of-type {\n",
       "        vertical-align: middle;\n",
       "    }\n",
       "\n",
       "    .dataframe tbody tr th {\n",
       "        vertical-align: top;\n",
       "    }\n",
       "\n",
       "    .dataframe thead th {\n",
       "        text-align: right;\n",
       "    }\n",
       "</style>\n",
       "<table border=\"1\" class=\"dataframe\">\n",
       "  <thead>\n",
       "    <tr style=\"text-align: right;\">\n",
       "      <th></th>\n",
       "      <th>max</th>\n",
       "      <th>shot</th>\n",
       "      <th>index</th>\n",
       "    </tr>\n",
       "  </thead>\n",
       "  <tbody>\n",
       "    <tr>\n",
       "      <th>0</th>\n",
       "      <td>0.285127</td>\n",
       "      <td>15</td>\n",
       "      <td>0</td>\n",
       "    </tr>\n",
       "    <tr>\n",
       "      <th>1</th>\n",
       "      <td>0.558838</td>\n",
       "      <td>5</td>\n",
       "      <td>1</td>\n",
       "    </tr>\n",
       "    <tr>\n",
       "      <th>2</th>\n",
       "      <td>0.491628</td>\n",
       "      <td>5</td>\n",
       "      <td>2</td>\n",
       "    </tr>\n",
       "    <tr>\n",
       "      <th>3</th>\n",
       "      <td>0.321777</td>\n",
       "      <td>15</td>\n",
       "      <td>3</td>\n",
       "    </tr>\n",
       "    <tr>\n",
       "      <th>4</th>\n",
       "      <td>0.454787</td>\n",
       "      <td>5</td>\n",
       "      <td>4</td>\n",
       "    </tr>\n",
       "    <tr>\n",
       "      <th>...</th>\n",
       "      <td>...</td>\n",
       "      <td>...</td>\n",
       "      <td>...</td>\n",
       "    </tr>\n",
       "    <tr>\n",
       "      <th>379</th>\n",
       "      <td>0.418574</td>\n",
       "      <td>15</td>\n",
       "      <td>379</td>\n",
       "    </tr>\n",
       "    <tr>\n",
       "      <th>380</th>\n",
       "      <td>0.311975</td>\n",
       "      <td>15</td>\n",
       "      <td>380</td>\n",
       "    </tr>\n",
       "    <tr>\n",
       "      <th>381</th>\n",
       "      <td>0.263768</td>\n",
       "      <td>5</td>\n",
       "      <td>381</td>\n",
       "    </tr>\n",
       "    <tr>\n",
       "      <th>382</th>\n",
       "      <td>0.243363</td>\n",
       "      <td>5</td>\n",
       "      <td>382</td>\n",
       "    </tr>\n",
       "    <tr>\n",
       "      <th>383</th>\n",
       "      <td>0.494934</td>\n",
       "      <td>10</td>\n",
       "      <td>383</td>\n",
       "    </tr>\n",
       "  </tbody>\n",
       "</table>\n",
       "<p>384 rows × 3 columns</p>\n",
       "</div>"
      ],
      "text/plain": [
       "          max  shot  index\n",
       "0    0.285127    15      0\n",
       "1    0.558838     5      1\n",
       "2    0.491628     5      2\n",
       "3    0.321777    15      3\n",
       "4    0.454787     5      4\n",
       "..        ...   ...    ...\n",
       "379  0.418574    15    379\n",
       "380  0.311975    15    380\n",
       "381  0.263768     5    381\n",
       "382  0.243363     5    382\n",
       "383  0.494934    10    383\n",
       "\n",
       "[384 rows x 3 columns]"
      ]
     },
     "execution_count": 116,
     "metadata": {},
     "output_type": "execute_result"
    }
   ],
   "source": [
    "query = \"\"\"\n",
    "with cnn_top as (\n",
    "select\n",
    "    max(cr.value) as max, cd.shot\n",
    "from\n",
    "    model m\n",
    "    join epoch e on m.id = e.model_id\n",
    "    join cnn_result cr on e.id = cr.epoch_id\n",
    "    join cnn_data cd on m.id = cd.model_id\n",
    "where\n",
    "    cr.type = 'Accuracy' and cd.shot is not null\n",
    "group by\n",
    "    m.id, cd.shot\n",
    "),\n",
    "maml_top as (\n",
    "select\n",
    "    max(mr.accuracy) as max\n",
    "from\n",
    "    model m\n",
    "    join epoch e on m.id = e.model_id\n",
    "    join maml_step ms on e.id = ms.epoch_id\n",
    "    join maml_update_acc mr on ms.id = mr.maml_step_id\n",
    "group by\n",
    "    m.id\n",
    ")\n",
    "select\n",
    "    *\n",
    "from\n",
    "    cnn_top\n",
    "\"\"\"\n",
    "\n",
    "\n",
    "columns, rows = query_database(query)\n",
    "\n",
    "df = pd.DataFrame(rows, columns=columns)\n",
    "\n",
    "df[\"index\"] = df.index\n",
    "df[\"max\"] = df[\"max\"].astype(float)\n",
    "df[\"shot\"] = df[\"shot\"].astype(int)\n",
    "\n",
    "df"
   ]
  },
  {
   "cell_type": "code",
   "execution_count": 118,
   "metadata": {},
   "outputs": [
    {
     "name": "stdout",
     "output_type": "stream",
     "text": [
      "0.20-0.25: 59\n",
      "0.25-0.30: 60\n",
      "0.30-0.35: 39\n",
      "0.35-0.40: 41\n",
      "0.40-0.45: 37\n",
      "0.45-0.50: 41\n",
      "0.50-0.55: 44\n",
      "0.55-0.60: 45\n",
      "0.60-0.65: 17\n",
      "0.65-0.70: 1\n"
     ]
    },
    {
     "data": {
      "text/plain": [
       "{0.25: 60,\n",
       " 0.55: 45,\n",
       " 0.45: 41,\n",
       " 0.30000000000000004: 39,\n",
       " 0.2: 59,\n",
       " 0.6000000000000001: 17,\n",
       " 0.5: 44,\n",
       " 0.35000000000000003: 41,\n",
       " 0.4: 37,\n",
       " 0.65: 1}"
      ]
     },
     "execution_count": 118,
     "metadata": {},
     "output_type": "execute_result"
    }
   ],
   "source": [
    "values = df[\"max\"].tolist()\n",
    "\n",
    "shot = [5, 10, 15]\n",
    "shot_counts = {s: {} for s in shot}\n",
    "\n",
    "# Initialize a dictionary to hold counts for each interval\n",
    "interval_counts = {}\n",
    "\n",
    "# Define the interval width\n",
    "interval_width = 0.05\n",
    "\n",
    "# Iterate over the values and count them in intervals\n",
    "for value in values:\n",
    "    interval = int(value / interval_width) * interval_width  # Determine the interval\n",
    "    if interval not in interval_counts:\n",
    "        interval_counts[interval] = 1\n",
    "    else:\n",
    "        interval_counts[interval] += 1\n",
    "\n",
    "# Print the counts for each interval\n",
    "for interval, count in sorted(interval_counts.items()):\n",
    "    print(f\"{interval:.2f}-{interval + interval_width:.2f}: {count}\")\n",
    "\n",
    "interval_counts"
   ]
  },
  {
   "cell_type": "code",
   "execution_count": 107,
   "metadata": {},
   "outputs": [
    {
     "data": {
      "application/vnd.plotly.v1+json": {
       "config": {
        "plotlyServerURL": "https://plot.ly"
       },
       "data": [
        {
         "type": "heatmap",
         "x": [
          -1,
          -0.9977324263038548,
          -0.9954648526077098,
          -0.9931972789115646,
          -0.9909297052154195,
          -0.9886621315192744,
          -0.9863945578231292,
          -0.9841269841269842,
          -0.981859410430839,
          -0.9795918367346939,
          -0.9773242630385488,
          -0.9750566893424036,
          -0.9727891156462585,
          -0.9705215419501134,
          -0.9682539682539683,
          -0.9659863945578231,
          -0.963718820861678,
          -0.9614512471655329,
          -0.9591836734693877,
          -0.9569160997732427,
          -0.9546485260770975,
          -0.9523809523809523,
          -0.9501133786848073,
          -0.9478458049886621,
          -0.9455782312925171,
          -0.9433106575963719,
          -0.9410430839002267,
          -0.9387755102040817,
          -0.9365079365079365,
          -0.9342403628117913,
          -0.9319727891156463,
          -0.9297052154195011,
          -0.927437641723356,
          -0.9251700680272109,
          -0.9229024943310657,
          -0.9206349206349207,
          -0.9183673469387755,
          -0.9160997732426304,
          -0.9138321995464853,
          -0.9115646258503401,
          -0.909297052154195,
          -0.9070294784580499,
          -0.9047619047619048,
          -0.9024943310657596,
          -0.9002267573696145,
          -0.8979591836734694,
          -0.8956916099773242,
          -0.8934240362811792,
          -0.891156462585034,
          -0.8888888888888888,
          -0.8866213151927438,
          -0.8843537414965986,
          -0.8820861678004535,
          -0.8798185941043084,
          -0.8775510204081632,
          -0.8752834467120182,
          -0.873015873015873,
          -0.8707482993197279,
          -0.8684807256235828,
          -0.8662131519274376,
          -0.8639455782312925,
          -0.8616780045351474,
          -0.8594104308390023,
          -0.8571428571428572,
          -0.854875283446712,
          -0.8526077097505669,
          -0.8503401360544218,
          -0.8480725623582767,
          -0.8458049886621315,
          -0.8435374149659864,
          -0.8412698412698413,
          -0.8390022675736961,
          -0.8367346938775511,
          -0.8344671201814059,
          -0.8321995464852607,
          -0.8299319727891157,
          -0.8276643990929705,
          -0.8253968253968254,
          -0.8231292517006803,
          -0.8208616780045351,
          -0.81859410430839,
          -0.8163265306122449,
          -0.8140589569160998,
          -0.8117913832199546,
          -0.8095238095238095,
          -0.8072562358276644,
          -0.8049886621315192,
          -0.8027210884353742,
          -0.800453514739229,
          -0.7981859410430839,
          -0.7959183673469388,
          -0.7936507936507937,
          -0.7913832199546486,
          -0.7891156462585034,
          -0.7868480725623583,
          -0.7845804988662132,
          -0.782312925170068,
          -0.780045351473923,
          -0.7777777777777778,
          -0.7755102040816326,
          -0.7732426303854876,
          -0.7709750566893424,
          -0.7687074829931972,
          -0.7664399092970522,
          -0.764172335600907,
          -0.7619047619047619,
          -0.7596371882086168,
          -0.7573696145124716,
          -0.7551020408163265,
          -0.7528344671201814,
          -0.7505668934240363,
          -0.7482993197278911,
          -0.746031746031746,
          -0.7437641723356009,
          -0.7414965986394557,
          -0.7392290249433107,
          -0.7369614512471656,
          -0.7346938775510203,
          -0.7324263038548753,
          -0.7301587301587302,
          -0.727891156462585,
          -0.7256235827664399,
          -0.7233560090702948,
          -0.7210884353741497,
          -0.7188208616780045,
          -0.7165532879818595,
          -0.7142857142857143,
          -0.7120181405895691,
          -0.7097505668934241,
          -0.7074829931972789,
          -0.7052154195011338,
          -0.7029478458049887,
          -0.7006802721088435,
          -0.6984126984126984,
          -0.6961451247165533,
          -0.6938775510204082,
          -0.691609977324263,
          -0.6893424036281179,
          -0.6870748299319728,
          -0.6848072562358276,
          -0.6825396825396826,
          -0.6802721088435374,
          -0.6780045351473922,
          -0.6757369614512472,
          -0.6734693877551021,
          -0.6712018140589568,
          -0.6689342403628118,
          -0.6666666666666667,
          -0.6643990929705215,
          -0.6621315192743764,
          -0.6598639455782314,
          -0.6575963718820862,
          -0.655328798185941,
          -0.653061224489796,
          -0.6507936507936508,
          -0.6485260770975056,
          -0.6462585034013606,
          -0.6439909297052154,
          -0.6417233560090703,
          -0.6394557823129252,
          -0.63718820861678,
          -0.6349206349206349,
          -0.6326530612244898,
          -0.6303854875283447,
          -0.6281179138321995,
          -0.6258503401360545,
          -0.6235827664399093,
          -0.6213151927437641,
          -0.6190476190476191,
          -0.6167800453514739,
          -0.6145124716553287,
          -0.6122448979591837,
          -0.6099773242630385,
          -0.6077097505668934,
          -0.6054421768707483,
          -0.6031746031746033,
          -0.600907029478458,
          -0.5986394557823129,
          -0.5963718820861679,
          -0.5941043083900226,
          -0.5918367346938775,
          -0.5895691609977325,
          -0.5873015873015873,
          -0.5850340136054422,
          -0.5827664399092971,
          -0.5804988662131519,
          -0.5782312925170068,
          -0.5759637188208617,
          -0.5736961451247166,
          -0.5714285714285714,
          -0.5691609977324263,
          -0.5668934240362812,
          -0.564625850340136,
          -0.562358276643991,
          -0.5600907029478458,
          -0.5578231292517006,
          -0.5555555555555556,
          -0.5532879818594104,
          -0.5510204081632653,
          -0.5487528344671202,
          -0.546485260770975,
          -0.5442176870748299,
          -0.5419501133786848,
          -0.5396825396825398,
          -0.5374149659863945,
          -0.5351473922902494,
          -0.5328798185941044,
          -0.5306122448979591,
          -0.528344671201814,
          -0.526077097505669,
          -0.5238095238095238,
          -0.5215419501133787,
          -0.5192743764172336,
          -0.5170068027210885,
          -0.5147392290249433,
          -0.5124716553287982,
          -0.5102040816326531,
          -0.5079365079365079,
          -0.5056689342403629,
          -0.5034013605442177,
          -0.5011337868480725,
          -0.4988662131519275,
          -0.4965986394557823,
          -0.49433106575963714,
          -0.4920634920634921,
          -0.4897959183673469,
          -0.48752834467120176,
          -0.4852607709750567,
          -0.48299319727891155,
          -0.4807256235827665,
          -0.47845804988662133,
          -0.47619047619047616,
          -0.4739229024943311,
          -0.47165532879818595,
          -0.4693877551020408,
          -0.46712018140589573,
          -0.46485260770975056,
          -0.4625850340136054,
          -0.46031746031746035,
          -0.4580498866213152,
          -0.45578231292517,
          -0.45351473922902497,
          -0.4512471655328798,
          -0.44897959183673475,
          -0.4467120181405896,
          -0.4444444444444444,
          -0.44217687074829937,
          -0.4399092970521542,
          -0.43764172335600904,
          -0.435374149659864,
          -0.4331065759637188,
          -0.43083900226757366,
          -0.4285714285714286,
          -0.42630385487528344,
          -0.4240362811791383,
          -0.4217687074829932,
          -0.41950113378684806,
          -0.4172335600907029,
          -0.41496598639455784,
          -0.4126984126984127,
          -0.4104308390022676,
          -0.40816326530612246,
          -0.4058956916099773,
          -0.40362811791383224,
          -0.4013605442176871,
          -0.3990929705215419,
          -0.39682539682539686,
          -0.3945578231292517,
          -0.39229024943310653,
          -0.3900226757369615,
          -0.3877551020408163,
          -0.38548752834467115,
          -0.3832199546485261,
          -0.38095238095238093,
          -0.3786848072562359,
          -0.3764172335600907,
          -0.37414965986394555,
          -0.3718820861678005,
          -0.36961451247165533,
          -0.36734693877551017,
          -0.3650793650793651,
          -0.36281179138321995,
          -0.3605442176870748,
          -0.35827664399092973,
          -0.35600907029478457,
          -0.3537414965986394,
          -0.35147392290249435,
          -0.3492063492063492,
          -0.34693877551020413,
          -0.34467120181405897,
          -0.3424036281179138,
          -0.34013605442176875,
          -0.3378684807256236,
          -0.3356009070294784,
          -0.33333333333333337,
          -0.3310657596371882,
          -0.32879818594104304,
          -0.326530612244898,
          -0.3242630385487528,
          -0.32199546485260766,
          -0.3197278911564626,
          -0.31746031746031744,
          -0.3151927437641724,
          -0.3129251700680272,
          -0.31065759637188206,
          -0.308390022675737,
          -0.30612244897959184,
          -0.3038548752834467,
          -0.3015873015873016,
          -0.29931972789115646,
          -0.2970521541950113,
          -0.29478458049886624,
          -0.2925170068027211,
          -0.2902494331065759,
          -0.28798185941043086,
          -0.2857142857142857,
          -0.28344671201814053,
          -0.2811791383219955,
          -0.2789115646258503,
          -0.27664399092970526,
          -0.2743764172335601,
          -0.27210884353741494,
          -0.2698412698412699,
          -0.2675736961451247,
          -0.26530612244897955,
          -0.2630385487528345,
          -0.26077097505668934,
          -0.25850340136054417,
          -0.2562358276643991,
          -0.25396825396825395,
          -0.2517006802721088,
          -0.24943310657596374,
          -0.24716553287981857,
          -0.24489795918367352,
          -0.24263038548752835,
          -0.2403628117913832,
          -0.23809523809523814,
          -0.23582766439909297,
          -0.2335600907029478,
          -0.23129251700680276,
          -0.2290249433106576,
          -0.22675736961451243,
          -0.22448979591836737,
          -0.2222222222222222,
          -0.21995464852607705,
          -0.217687074829932,
          -0.21541950113378683,
          -0.21315192743764177,
          -0.2108843537414966,
          -0.20861678004535145,
          -0.2063492063492064,
          -0.20408163265306123,
          -0.20181405895691606,
          -0.199546485260771,
          -0.19727891156462585,
          -0.19501133786848068,
          -0.19274376417233563,
          -0.19047619047619047,
          -0.1882086167800453,
          -0.18594104308390025,
          -0.18367346938775508,
          -0.18140589569161003,
          -0.17913832199546487,
          -0.1768707482993197,
          -0.17460317460317465,
          -0.17233560090702948,
          -0.17006802721088432,
          -0.16780045351473927,
          -0.1655328798185941,
          -0.16326530612244894,
          -0.16099773242630389,
          -0.15873015873015872,
          -0.15646258503401356,
          -0.1541950113378685,
          -0.15192743764172334,
          -0.1496598639455783,
          -0.14739229024943312,
          -0.14512471655328796,
          -0.1428571428571429,
          -0.14058956916099774,
          -0.13832199546485258,
          -0.13605442176870752,
          -0.13378684807256236,
          -0.1315192743764172,
          -0.12925170068027214,
          -0.12698412698412698,
          -0.12471655328798181,
          -0.12244897959183676,
          -0.1201814058956916,
          -0.11791383219954643,
          -0.11564625850340138,
          -0.11337868480725621,
          -0.11111111111111116,
          -0.108843537414966,
          -0.10657596371882083,
          -0.10430839002267578,
          -0.10204081632653061,
          -0.09977324263038545,
          -0.0975056689342404,
          -0.09523809523809523,
          -0.09297052154195007,
          -0.09070294784580502,
          -0.08843537414965985,
          -0.08616780045351469,
          -0.08390022675736963,
          -0.08163265306122447,
          -0.07936507936507942,
          -0.07709750566893425,
          -0.07482993197278909,
          -0.07256235827664403,
          -0.07029478458049887,
          -0.0680272108843537,
          -0.06575963718820865,
          -0.06349206349206349,
          -0.061224489795918324,
          -0.05895691609977327,
          -0.05668934240362811,
          -0.05442176870748294,
          -0.05215419501133789,
          -0.049886621315192725,
          -0.04761904761904767,
          -0.04535147392290251,
          -0.04308390022675734,
          -0.04081632653061229,
          -0.038548752834467126,
          -0.03628117913832196,
          -0.03401360544217691,
          -0.031746031746031744,
          -0.02947845804988658,
          -0.027210884353741527,
          -0.024943310657596363,
          -0.0226757369614512,
          -0.020408163265306145,
          -0.01814058956916098,
          -0.015873015873015928,
          -0.013605442176870763,
          -0.0113378684807256,
          -0.009070294784580546,
          -0.006802721088435382,
          -0.0045351473922902175,
          -0.0022675736961451642
         ],
         "y": [
          0,
          1,
          2,
          3,
          4,
          5,
          6,
          7,
          8,
          9,
          10,
          11,
          12,
          13,
          14,
          15,
          16,
          17,
          18,
          19,
          20,
          21,
          22,
          23,
          24,
          25,
          26,
          27,
          28,
          29,
          30,
          31,
          32,
          33,
          34,
          35,
          36,
          37,
          38,
          39,
          40,
          41,
          42,
          43,
          44,
          45,
          46,
          47,
          48,
          49,
          50,
          51,
          52,
          53,
          54,
          55,
          56,
          57,
          58,
          59,
          60,
          61,
          62,
          63,
          64,
          65,
          66,
          67,
          68,
          69,
          70,
          71,
          72,
          73,
          74,
          75,
          76,
          77,
          78,
          79,
          80,
          81,
          82,
          83,
          84,
          85,
          86,
          87,
          88,
          89,
          90,
          91,
          92,
          93,
          94,
          95,
          96,
          97,
          98,
          99,
          100,
          101,
          102,
          103,
          104,
          105,
          106,
          107,
          108,
          109,
          110,
          111,
          112,
          113,
          114,
          115,
          116,
          117,
          118,
          119,
          120,
          121,
          122,
          123,
          124,
          125,
          126,
          127,
          128,
          129,
          130,
          131,
          132,
          133,
          134,
          135,
          136,
          137,
          138,
          139,
          140,
          141,
          142,
          143,
          144,
          145,
          146,
          147,
          148,
          149,
          150,
          151,
          152,
          153,
          154,
          155,
          156,
          157,
          158,
          159,
          160,
          161,
          162,
          163,
          164,
          165,
          166,
          167,
          168,
          169,
          170,
          171,
          172,
          173,
          174,
          175,
          176,
          177,
          178,
          179,
          180,
          181,
          182,
          183,
          184,
          185,
          186,
          187,
          188,
          189,
          190,
          191,
          192,
          193,
          194,
          195,
          196,
          197,
          198,
          199,
          200,
          201,
          202,
          203,
          204,
          205,
          206,
          207,
          208,
          209,
          210,
          211,
          212,
          213,
          214,
          215,
          216,
          217,
          218,
          219,
          220,
          221,
          222,
          223,
          224,
          225,
          226,
          227,
          228,
          229,
          230,
          231,
          232,
          233,
          234,
          235,
          236,
          237,
          238,
          239,
          240,
          241,
          242,
          243,
          244,
          245,
          246,
          247,
          248,
          249,
          250,
          251,
          252,
          253,
          254,
          255,
          256,
          257,
          258,
          259,
          260,
          261,
          262,
          263,
          264,
          265,
          266,
          267,
          268,
          269,
          270,
          271,
          272,
          273,
          274,
          275,
          276,
          277,
          278,
          279,
          280,
          281,
          282,
          283,
          284,
          285,
          286,
          287,
          288,
          289,
          290,
          291,
          292,
          293,
          294,
          295,
          296,
          297,
          298,
          299,
          300,
          301,
          302,
          303,
          304,
          305,
          306,
          307,
          308,
          309,
          310,
          311,
          312,
          313,
          314,
          315,
          316,
          317,
          318,
          319,
          320,
          321,
          322,
          323,
          324,
          325,
          326,
          327,
          328,
          329,
          330,
          331,
          332,
          333,
          334,
          335,
          336,
          337,
          338,
          339,
          340,
          341,
          342,
          343,
          344,
          345,
          346,
          347,
          348,
          349,
          350,
          351,
          352,
          353,
          354,
          355,
          356,
          357,
          358,
          359,
          360,
          361,
          362,
          363,
          364,
          365,
          366,
          367,
          368,
          369,
          370,
          371,
          372,
          373,
          374,
          375,
          376,
          377,
          378,
          379,
          380,
          381,
          382,
          383,
          384,
          385,
          386,
          387,
          388,
          389,
          390,
          391,
          392,
          393,
          394,
          395,
          396,
          397,
          398,
          399,
          400,
          401,
          402,
          403,
          404,
          405,
          406,
          407,
          408,
          409,
          410,
          411,
          412,
          413,
          414,
          415,
          416,
          417,
          418,
          419,
          420,
          421,
          422,
          423,
          424,
          425,
          426,
          427,
          428,
          429,
          430,
          431,
          432,
          433,
          434,
          435,
          436,
          437,
          438,
          439,
          440
         ],
         "z": [
          "1.6353575502123152",
          "1.765277236700058",
          "1.6865444481372833",
          "1.6379601955413818",
          "1.6511143275669642",
          "2.146444627216884",
          "1.8004937291145324",
          "1.6186540484428407",
          "1.7078799724578857",
          "1.6748654246330261",
          "0.28",
          "1.806740300995963",
          "1.8283718483788627",
          "1.714903814452035",
          "0.9814871549606323",
          "1.6092244862831024",
          "1.7594139933586121",
          "1.6896709714617049",
          "3.113738864660263",
          "1.8882006406784058",
          "1.8313107788562775",
          "0.9285351053422266",
          "1.4330274196150634",
          "1.6997660398483276",
          "1.8950652735573905",
          "1.6611998081207275",
          "2.0674637726375034",
          "1.6645688652992248",
          "1.7905074656009674",
          "1.7059297739257946",
          "2.4630747863224576",
          "1.753822773694992",
          "1.8893352917262487",
          "1.859456045286996",
          "2.5452990233898163",
          "1.7990597486495972",
          "1.7562907695770265",
          "2.2992508113384247",
          "1.7328475832939148",
          "1.9927884340286255",
          "1.7540317475795746",
          "1.7897756269999914",
          "2.082673043012619",
          "1.9946463108062744",
          "1.625170922279358",
          "1.6847994804382325",
          "1.7556925415992737",
          "2.53447225689888",
          "1.8150945901870728",
          "2.2730112433433534",
          "2.581743633747101",
          "1.984007179737091",
          "1.7048436440886583",
          "1.7072633624076843",
          "1.6553443372249603",
          "1.5833024024963378",
          "2.2105827927589417",
          "1.7169251084327697",
          "1.9356200218200683",
          "1.4693723706484467",
          "2.070185491016933",
          "0.7533333333333333",
          "1.692529308795929",
          "1.721264272928238",
          "1.5740587830543518",
          "3.0342202527182445",
          "1.9266616106033325",
          "0.30666666666666664",
          "1.6975395441055299",
          "1.658391034603119",
          "1.859324267932347",
          "2.1138914465904235",
          "1.65842924118042",
          "1.7535904135022844",
          "1.7329269817897253",
          "1.9038017647606986",
          "1.6657243847846985",
          "1.6390020966529846",
          "1.644589900970459",
          "1.6593518938337053",
          "1.6182530999183655",
          "1.755241530282157",
          "2.067634037562779",
          "1.61465242930821",
          "2.289233386516571",
          "0.3466666666666667",
          "0.5566666666666666",
          "1.6517571568489076",
          "1.8204158246517181",
          "1.8936890065670013",
          "1.5870352277595887",
          "1.6782434497560774",
          "2.0479113936424254",
          "2.0877083965710233",
          "1.9524995684623718",
          "1.8451012670993805",
          "0.9788710474967957",
          "2.0704861521720885",
          "2.050679564476013",
          "0.2733333333333333",
          "1.6339920929500036",
          "1.679468308176313",
          "1.7286987900733948",
          "1.6590616703033447",
          "1.7365160882472992",
          "1.6298258304595947",
          "1.7190093653542655",
          "1.7998539805412292",
          "1.8240313053131103",
          "0.9690315127372742",
          "1.7516312897205353",
          "2.308898448944092",
          "1.644336802618844",
          "1.7789179597582137",
          "1.8990708589553833",
          "1.6288700819015502",
          "0.5033333333333333",
          "1.6891211569309235",
          "0.9729059934616089",
          "2.0768298506736755",
          "1.8042979751314436",
          "1.5602036798658547",
          "1.6342892135892595",
          "1.2630482989377247",
          "2.2238647086279735",
          "1.663881629705429",
          "1.6394465821129935",
          "1.7275595324380058",
          "1.7820413964135307",
          "1.6871379137039184",
          "1.66798135638237",
          "1.8138128876686097",
          "1.7772973299026489",
          "1.685429300580706",
          "1.5856154290706206",
          "1.7898927927017212",
          "1.7383081231798445",
          "2.494669497013092",
          "1.7167056679725647",
          "1.7378559947013854",
          "2.4809919766017368",
          "0.2866666666666667",
          "0.5366666666666666",
          "1.6198397193636214",
          "1.7928218722343445",
          "1.669086515903473",
          "1.6722454343523299",
          "1.7562898695468903",
          "0.9755856394767761",
          "1.4014830185617928",
          "1.7859970033168793",
          "2.2808167593819753",
          "1.8412365317344666",
          "1.6444721937179565",
          "1.5929241350718908",
          "1.7381614804267884",
          "1.7870457768440247",
          "1.6670553088188171",
          "1.8400843143463135",
          "1.9457903802394867",
          "1.6711307406425475",
          "1.7038133483409463",
          "1.8233416438102723",
          "1.6340227007865906",
          "1.6394495725631715",
          "1.7845511317253113",
          "1.8567466139793396",
          "1.7774324417114258",
          "1.7541002205439977",
          "2.0921156917299544",
          "1.6937377095222472",
          "1.7913132054465157",
          "1.756686770915985",
          "0.9508575201034546",
          "1.773570567369461",
          "1.760371160507202",
          "2.038483534540449",
          "2.7935996651649475",
          "1.9513566493988037",
          "1.704925274848938",
          "1.3270315488997935",
          "1.6415326118469238",
          "1.6301008343696595",
          "0.9723672270774841",
          "1.7282493625368391",
          "1.7723542153835297",
          "1.6993370175361633",
          "1.6457651512963432",
          "1.9625424657549178",
          "1.0050743531785076",
          "1.603694462776184",
          "1.6909341514110565",
          "1.7061333775520324",
          "1.8346694946289062",
          "1.5994553804397582",
          "1.6724159145543285",
          "2.1141184909003123",
          "2.2131520807743073",
          "1.9034205377101898",
          "1.7507676780223846",
          "1.6538646561758858",
          "1.8859474062919617",
          "1.6840603351593018",
          "1.7275724411010742",
          "1.7070521729542016",
          "1.6789528369903564",
          "1.6215731978416443",
          "1.596930992603302",
          "1.7048436450811983",
          "0.8699468374252319",
          "1.8607732951641083",
          "1.6390981844493322",
          "1.7253263337271554",
          "1.7192601561546326",
          "1.203464347957311",
          "1.6831838062831335",
          "1.6383245161601476",
          "2.3588108122348785",
          "1.6799218893051147",
          "1.748582661151886",
          "2.8192447083336964",
          "1.7352361798286438",
          "0.48333333333333334",
          "1.7315159678459167",
          "1.6628206968307495",
          "1.628617775440216",
          "1.6406408250331879",
          "1.7053079903125763",
          "1.6935441613197326",
          "2.113971999713353",
          "1.7114896774291992",
          "1.6378954138074602",
          "2.099664640426636",
          "1.6450611352920532",
          "1.8974248170852661",
          "1.7185913920402527",
          "1.8147837221622467",
          "1.690231135913304",
          "1.8298262357711792",
          "1.8834256827831268",
          "1.7576097249984741",
          "1.729978357042585",
          "1.6373000264167785",
          "1.661441717829023",
          "1.7389375209808349",
          "1.7161864340305328",
          "1.6080177426338196",
          "1.6887901425361633",
          "2.3071456789970397",
          "2.3963643014431",
          "1.6481746196746827",
          "1.2777086212760935",
          "0.9625965356826782",
          "1.6930447816848755",
          "2.2973575251443044",
          "1.7381669402122497",
          "1.739588839667184",
          "1.847112706729344",
          "2.2018816471099854",
          "1.66412553191185",
          "0.6966666666666667",
          "1.7280217409133911",
          "1.8083840608596802",
          "1.612474833215986",
          "1.7311199392591203",
          "1.7631527483463287",
          "2.156002461910248",
          "1.7965072223118372",
          "1.3378712096489072",
          "0.9690927267074585",
          "1.6321024775505066",
          "2.056523697716849",
          "1.6786106526851654",
          "0.5733333333333334",
          "2.760374391078949",
          "1.7298126339912414",
          "1.7296878780637468",
          "1.5553460017068672",
          "2.4366089403629303",
          "1.6902690291404725",
          "2.10891655087471",
          "1.8404493033885956",
          "0.9796468615531921",
          "1.8150258958339691",
          "2.081240451335907",
          "2.6031346917152405",
          "1.8346219420433045",
          "1.7718442320823669",
          "1.5961369105747767",
          "1.6820701837539673",
          "2.6468134760856628",
          "1.6255144732339042",
          "1.7517769038677216",
          "1.7674354825701033",
          "1.7937950789928436",
          "0.9741629362106323",
          "1.7889622151851654",
          "2.83427027293614",
          "1.760808757373265",
          "1.7233820855617523",
          "1.7310931512287684",
          "1.614486849308014",
          "1.6725783685808324",
          "1.7215840816497803",
          "1.8961553275585175",
          "1.9807764887809753",
          "1.692439317703247",
          "1.6528078317642212",
          "1.832441222667694",
          "1.6980342268943787",
          "1.6609578728675842",
          "1.7702461034059525",
          "1.8969191014766693",
          "1.7016443252563476",
          "2.333225041627884",
          "2.7209340929985046",
          "1.7417655161448888",
          "1.848896563053131",
          "1.6307958194187708",
          "1.9919783174991608",
          "0.4266666666666667",
          "0.4633333333333333",
          "1.7133214175701141",
          "1.4415418601265924",
          "0.6066666666666667",
          "1.7486284290041243",
          "1.6603751182556152",
          "1.700556468963623",
          "2.0681816041469574",
          "0.7133333333333334",
          "1.8391762375831604",
          "1.6631104052066803",
          "1.734677755832672",
          "1.638192926134382",
          "1.717332673072815",
          "2.1594512462615967",
          "1.6794912815093994",
          "1.660744547843933",
          "1.6885417819023132",
          "1.8653324723243714",
          "1.662403404712677",
          "1.8303318321704865",
          "2.2300179302692413",
          "1.6155442357063294",
          "1.7220018761498588",
          "1.8192979097366333",
          "1.8030011653900146",
          "1.6373031258583068",
          "1.717332696914673",
          "1.634230715887887",
          "1.7194516829081945",
          "1.8854957699775696",
          "1.8634758949279786",
          "1.6855390582765852",
          "2.0755295634269713",
          "2.6259872674942017",
          "1.628378415107727",
          "2.5543921504701887",
          "1.6477704644203186",
          "1.801230788230896",
          "1.6965623497962952",
          "1.6149082859809936",
          "1.62360759973526",
          "1.7049121166874086",
          "1.7218891552516393",
          "1.7485826909542084",
          "1.6939293146133423",
          "0.9276475310325623",
          "2.346833288669586",
          "1.6413630962371826",
          "1.9461468577384948",
          "2.128773399761745",
          "1.366710007060107",
          "0.7166666666666667",
          "1.3589257909920422",
          "1.8240401148796082",
          "0.4766666666666667",
          "1.6738049813679285",
          "1.794055736064911",
          "1.7953863620758057",
          "1.9262880682945251",
          "1.7084155934197562",
          "1.736080253124237",
          "1.7464862167835236",
          "1.6779652663639613",
          "3.005628079175949",
          "1.6336912427629744",
          "1.9627532958984375",
          "1.6801906313214983",
          "1.8427624021257674",
          "1.7956198113305228",
          "1.5705355923234319",
          "1.781561017036438",
          "1.5127752982308529",
          "1.7487165927886963",
          "2.1737616896629333",
          "3.4114540304456438",
          "2.075496963092259",
          "1.913277540888105",
          "3.7043685615062714",
          "1.770026981830597",
          "1.613515520095825",
          "1.8777428567409515",
          "2.0721128284931183",
          "1.8451893627643585",
          "1.639264702796936",
          "2.432520730154855",
          "0.9194148778915405",
          "1.632857620716095",
          "0.6266666666666667",
          "1.9072790443897247",
          "1.632997717176165",
          "0.3333333333333333",
          "0.9945626169880631",
          "1.6443667769432069",
          "1.6992752041135515",
          "1.7067067963736398",
          "1.0163968274684902",
          "1.6242836833000183",
          "1.8020725846290588",
          "1.743298888206482",
          "1.6230716824531555",
          "2.0255435585975645",
          "1.6252705710274833",
          "1.641331821680069",
          "2.1051407882145474",
          "1.916114364351545",
          "2.408833759171622",
          "1.7757756233215332",
          "1.8898004591464996",
          "1.6627695560455322",
          "2.007212281227112",
          "1.6854850888252257",
          "2.816230297088623",
          "1.9747673392295837",
          "1.6317456126213075",
          "1.7262612751552038",
          "1.7579898493630546",
          "1.7368265390396118",
          "1.6580254673957824",
          "0.983839213848114"
         ]
        }
       ],
       "layout": {
        "template": {
         "data": {
          "bar": [
           {
            "error_x": {
             "color": "#2a3f5f"
            },
            "error_y": {
             "color": "#2a3f5f"
            },
            "marker": {
             "line": {
              "color": "#E5ECF6",
              "width": 0.5
             },
             "pattern": {
              "fillmode": "overlay",
              "size": 10,
              "solidity": 0.2
             }
            },
            "type": "bar"
           }
          ],
          "barpolar": [
           {
            "marker": {
             "line": {
              "color": "#E5ECF6",
              "width": 0.5
             },
             "pattern": {
              "fillmode": "overlay",
              "size": 10,
              "solidity": 0.2
             }
            },
            "type": "barpolar"
           }
          ],
          "carpet": [
           {
            "aaxis": {
             "endlinecolor": "#2a3f5f",
             "gridcolor": "white",
             "linecolor": "white",
             "minorgridcolor": "white",
             "startlinecolor": "#2a3f5f"
            },
            "baxis": {
             "endlinecolor": "#2a3f5f",
             "gridcolor": "white",
             "linecolor": "white",
             "minorgridcolor": "white",
             "startlinecolor": "#2a3f5f"
            },
            "type": "carpet"
           }
          ],
          "choropleth": [
           {
            "colorbar": {
             "outlinewidth": 0,
             "ticks": ""
            },
            "type": "choropleth"
           }
          ],
          "contour": [
           {
            "colorbar": {
             "outlinewidth": 0,
             "ticks": ""
            },
            "colorscale": [
             [
              0,
              "#0d0887"
             ],
             [
              0.1111111111111111,
              "#46039f"
             ],
             [
              0.2222222222222222,
              "#7201a8"
             ],
             [
              0.3333333333333333,
              "#9c179e"
             ],
             [
              0.4444444444444444,
              "#bd3786"
             ],
             [
              0.5555555555555556,
              "#d8576b"
             ],
             [
              0.6666666666666666,
              "#ed7953"
             ],
             [
              0.7777777777777778,
              "#fb9f3a"
             ],
             [
              0.8888888888888888,
              "#fdca26"
             ],
             [
              1,
              "#f0f921"
             ]
            ],
            "type": "contour"
           }
          ],
          "contourcarpet": [
           {
            "colorbar": {
             "outlinewidth": 0,
             "ticks": ""
            },
            "type": "contourcarpet"
           }
          ],
          "heatmap": [
           {
            "colorbar": {
             "outlinewidth": 0,
             "ticks": ""
            },
            "colorscale": [
             [
              0,
              "#0d0887"
             ],
             [
              0.1111111111111111,
              "#46039f"
             ],
             [
              0.2222222222222222,
              "#7201a8"
             ],
             [
              0.3333333333333333,
              "#9c179e"
             ],
             [
              0.4444444444444444,
              "#bd3786"
             ],
             [
              0.5555555555555556,
              "#d8576b"
             ],
             [
              0.6666666666666666,
              "#ed7953"
             ],
             [
              0.7777777777777778,
              "#fb9f3a"
             ],
             [
              0.8888888888888888,
              "#fdca26"
             ],
             [
              1,
              "#f0f921"
             ]
            ],
            "type": "heatmap"
           }
          ],
          "heatmapgl": [
           {
            "colorbar": {
             "outlinewidth": 0,
             "ticks": ""
            },
            "colorscale": [
             [
              0,
              "#0d0887"
             ],
             [
              0.1111111111111111,
              "#46039f"
             ],
             [
              0.2222222222222222,
              "#7201a8"
             ],
             [
              0.3333333333333333,
              "#9c179e"
             ],
             [
              0.4444444444444444,
              "#bd3786"
             ],
             [
              0.5555555555555556,
              "#d8576b"
             ],
             [
              0.6666666666666666,
              "#ed7953"
             ],
             [
              0.7777777777777778,
              "#fb9f3a"
             ],
             [
              0.8888888888888888,
              "#fdca26"
             ],
             [
              1,
              "#f0f921"
             ]
            ],
            "type": "heatmapgl"
           }
          ],
          "histogram": [
           {
            "marker": {
             "pattern": {
              "fillmode": "overlay",
              "size": 10,
              "solidity": 0.2
             }
            },
            "type": "histogram"
           }
          ],
          "histogram2d": [
           {
            "colorbar": {
             "outlinewidth": 0,
             "ticks": ""
            },
            "colorscale": [
             [
              0,
              "#0d0887"
             ],
             [
              0.1111111111111111,
              "#46039f"
             ],
             [
              0.2222222222222222,
              "#7201a8"
             ],
             [
              0.3333333333333333,
              "#9c179e"
             ],
             [
              0.4444444444444444,
              "#bd3786"
             ],
             [
              0.5555555555555556,
              "#d8576b"
             ],
             [
              0.6666666666666666,
              "#ed7953"
             ],
             [
              0.7777777777777778,
              "#fb9f3a"
             ],
             [
              0.8888888888888888,
              "#fdca26"
             ],
             [
              1,
              "#f0f921"
             ]
            ],
            "type": "histogram2d"
           }
          ],
          "histogram2dcontour": [
           {
            "colorbar": {
             "outlinewidth": 0,
             "ticks": ""
            },
            "colorscale": [
             [
              0,
              "#0d0887"
             ],
             [
              0.1111111111111111,
              "#46039f"
             ],
             [
              0.2222222222222222,
              "#7201a8"
             ],
             [
              0.3333333333333333,
              "#9c179e"
             ],
             [
              0.4444444444444444,
              "#bd3786"
             ],
             [
              0.5555555555555556,
              "#d8576b"
             ],
             [
              0.6666666666666666,
              "#ed7953"
             ],
             [
              0.7777777777777778,
              "#fb9f3a"
             ],
             [
              0.8888888888888888,
              "#fdca26"
             ],
             [
              1,
              "#f0f921"
             ]
            ],
            "type": "histogram2dcontour"
           }
          ],
          "mesh3d": [
           {
            "colorbar": {
             "outlinewidth": 0,
             "ticks": ""
            },
            "type": "mesh3d"
           }
          ],
          "parcoords": [
           {
            "line": {
             "colorbar": {
              "outlinewidth": 0,
              "ticks": ""
             }
            },
            "type": "parcoords"
           }
          ],
          "pie": [
           {
            "automargin": true,
            "type": "pie"
           }
          ],
          "scatter": [
           {
            "fillpattern": {
             "fillmode": "overlay",
             "size": 10,
             "solidity": 0.2
            },
            "type": "scatter"
           }
          ],
          "scatter3d": [
           {
            "line": {
             "colorbar": {
              "outlinewidth": 0,
              "ticks": ""
             }
            },
            "marker": {
             "colorbar": {
              "outlinewidth": 0,
              "ticks": ""
             }
            },
            "type": "scatter3d"
           }
          ],
          "scattercarpet": [
           {
            "marker": {
             "colorbar": {
              "outlinewidth": 0,
              "ticks": ""
             }
            },
            "type": "scattercarpet"
           }
          ],
          "scattergeo": [
           {
            "marker": {
             "colorbar": {
              "outlinewidth": 0,
              "ticks": ""
             }
            },
            "type": "scattergeo"
           }
          ],
          "scattergl": [
           {
            "marker": {
             "colorbar": {
              "outlinewidth": 0,
              "ticks": ""
             }
            },
            "type": "scattergl"
           }
          ],
          "scattermapbox": [
           {
            "marker": {
             "colorbar": {
              "outlinewidth": 0,
              "ticks": ""
             }
            },
            "type": "scattermapbox"
           }
          ],
          "scatterpolar": [
           {
            "marker": {
             "colorbar": {
              "outlinewidth": 0,
              "ticks": ""
             }
            },
            "type": "scatterpolar"
           }
          ],
          "scatterpolargl": [
           {
            "marker": {
             "colorbar": {
              "outlinewidth": 0,
              "ticks": ""
             }
            },
            "type": "scatterpolargl"
           }
          ],
          "scatterternary": [
           {
            "marker": {
             "colorbar": {
              "outlinewidth": 0,
              "ticks": ""
             }
            },
            "type": "scatterternary"
           }
          ],
          "surface": [
           {
            "colorbar": {
             "outlinewidth": 0,
             "ticks": ""
            },
            "colorscale": [
             [
              0,
              "#0d0887"
             ],
             [
              0.1111111111111111,
              "#46039f"
             ],
             [
              0.2222222222222222,
              "#7201a8"
             ],
             [
              0.3333333333333333,
              "#9c179e"
             ],
             [
              0.4444444444444444,
              "#bd3786"
             ],
             [
              0.5555555555555556,
              "#d8576b"
             ],
             [
              0.6666666666666666,
              "#ed7953"
             ],
             [
              0.7777777777777778,
              "#fb9f3a"
             ],
             [
              0.8888888888888888,
              "#fdca26"
             ],
             [
              1,
              "#f0f921"
             ]
            ],
            "type": "surface"
           }
          ],
          "table": [
           {
            "cells": {
             "fill": {
              "color": "#EBF0F8"
             },
             "line": {
              "color": "white"
             }
            },
            "header": {
             "fill": {
              "color": "#C8D4E3"
             },
             "line": {
              "color": "white"
             }
            },
            "type": "table"
           }
          ]
         },
         "layout": {
          "annotationdefaults": {
           "arrowcolor": "#2a3f5f",
           "arrowhead": 0,
           "arrowwidth": 1
          },
          "autotypenumbers": "strict",
          "coloraxis": {
           "colorbar": {
            "outlinewidth": 0,
            "ticks": ""
           }
          },
          "colorscale": {
           "diverging": [
            [
             0,
             "#8e0152"
            ],
            [
             0.1,
             "#c51b7d"
            ],
            [
             0.2,
             "#de77ae"
            ],
            [
             0.3,
             "#f1b6da"
            ],
            [
             0.4,
             "#fde0ef"
            ],
            [
             0.5,
             "#f7f7f7"
            ],
            [
             0.6,
             "#e6f5d0"
            ],
            [
             0.7,
             "#b8e186"
            ],
            [
             0.8,
             "#7fbc41"
            ],
            [
             0.9,
             "#4d9221"
            ],
            [
             1,
             "#276419"
            ]
           ],
           "sequential": [
            [
             0,
             "#0d0887"
            ],
            [
             0.1111111111111111,
             "#46039f"
            ],
            [
             0.2222222222222222,
             "#7201a8"
            ],
            [
             0.3333333333333333,
             "#9c179e"
            ],
            [
             0.4444444444444444,
             "#bd3786"
            ],
            [
             0.5555555555555556,
             "#d8576b"
            ],
            [
             0.6666666666666666,
             "#ed7953"
            ],
            [
             0.7777777777777778,
             "#fb9f3a"
            ],
            [
             0.8888888888888888,
             "#fdca26"
            ],
            [
             1,
             "#f0f921"
            ]
           ],
           "sequentialminus": [
            [
             0,
             "#0d0887"
            ],
            [
             0.1111111111111111,
             "#46039f"
            ],
            [
             0.2222222222222222,
             "#7201a8"
            ],
            [
             0.3333333333333333,
             "#9c179e"
            ],
            [
             0.4444444444444444,
             "#bd3786"
            ],
            [
             0.5555555555555556,
             "#d8576b"
            ],
            [
             0.6666666666666666,
             "#ed7953"
            ],
            [
             0.7777777777777778,
             "#fb9f3a"
            ],
            [
             0.8888888888888888,
             "#fdca26"
            ],
            [
             1,
             "#f0f921"
            ]
           ]
          },
          "colorway": [
           "#636efa",
           "#EF553B",
           "#00cc96",
           "#ab63fa",
           "#FFA15A",
           "#19d3f3",
           "#FF6692",
           "#B6E880",
           "#FF97FF",
           "#FECB52"
          ],
          "font": {
           "color": "#2a3f5f"
          },
          "geo": {
           "bgcolor": "white",
           "lakecolor": "white",
           "landcolor": "#E5ECF6",
           "showlakes": true,
           "showland": true,
           "subunitcolor": "white"
          },
          "hoverlabel": {
           "align": "left"
          },
          "hovermode": "closest",
          "mapbox": {
           "style": "light"
          },
          "paper_bgcolor": "white",
          "plot_bgcolor": "#E5ECF6",
          "polar": {
           "angularaxis": {
            "gridcolor": "white",
            "linecolor": "white",
            "ticks": ""
           },
           "bgcolor": "#E5ECF6",
           "radialaxis": {
            "gridcolor": "white",
            "linecolor": "white",
            "ticks": ""
           }
          },
          "scene": {
           "xaxis": {
            "backgroundcolor": "#E5ECF6",
            "gridcolor": "white",
            "gridwidth": 2,
            "linecolor": "white",
            "showbackground": true,
            "ticks": "",
            "zerolinecolor": "white"
           },
           "yaxis": {
            "backgroundcolor": "#E5ECF6",
            "gridcolor": "white",
            "gridwidth": 2,
            "linecolor": "white",
            "showbackground": true,
            "ticks": "",
            "zerolinecolor": "white"
           },
           "zaxis": {
            "backgroundcolor": "#E5ECF6",
            "gridcolor": "white",
            "gridwidth": 2,
            "linecolor": "white",
            "showbackground": true,
            "ticks": "",
            "zerolinecolor": "white"
           }
          },
          "shapedefaults": {
           "line": {
            "color": "#2a3f5f"
           }
          },
          "ternary": {
           "aaxis": {
            "gridcolor": "white",
            "linecolor": "white",
            "ticks": ""
           },
           "baxis": {
            "gridcolor": "white",
            "linecolor": "white",
            "ticks": ""
           },
           "bgcolor": "#E5ECF6",
           "caxis": {
            "gridcolor": "white",
            "linecolor": "white",
            "ticks": ""
           }
          },
          "title": {
           "x": 0.05
          },
          "xaxis": {
           "automargin": true,
           "gridcolor": "white",
           "linecolor": "white",
           "ticks": "",
           "title": {
            "standoff": 15
           },
           "zerolinecolor": "white",
           "zerolinewidth": 2
          },
          "yaxis": {
           "automargin": true,
           "gridcolor": "white",
           "linecolor": "white",
           "ticks": "",
           "title": {
            "standoff": 15
           },
           "zerolinecolor": "white",
           "zerolinewidth": 2
          }
         }
        }
       }
      }
     },
     "metadata": {},
     "output_type": "display_data"
    }
   ],
   "source": [
    "x_axis = [i / len(df) - 1 for i in range(len(df))]\n",
    "\n",
    "fig = go.Figure(\n",
    "    data=go.Heatmap(\n",
    "        x=x_axis,\n",
    "        y=df[\"index\"],\n",
    "        z=df[\"max\"],\n",
    "    )\n",
    ")\n",
    "\n",
    "\n",
    "fig.show()"
   ]
  },
  {
   "cell_type": "code",
   "execution_count": 103,
   "metadata": {},
   "outputs": [
    {
     "ename": "ValueError",
     "evalue": "cannot reshape array of size 450 into shape (22,22)",
     "output_type": "error",
     "traceback": [
      "\u001b[0;31m---------------------------------------------------------------------------\u001b[0m",
      "\u001b[0;31mValueError\u001b[0m                                Traceback (most recent call last)",
      "Cell \u001b[0;32mIn[103], line 10\u001b[0m\n\u001b[1;32m      8\u001b[0m \u001b[38;5;66;03m# Reshape accuracy values into a matrix\u001b[39;00m\n\u001b[1;32m      9\u001b[0m matrix_size \u001b[38;5;241m=\u001b[39m \u001b[38;5;28mint\u001b[39m(np\u001b[38;5;241m.\u001b[39mceil(np\u001b[38;5;241m.\u001b[39msqrt(num_models)))\n\u001b[0;32m---> 10\u001b[0m accuracy_matrix \u001b[38;5;241m=\u001b[39m \u001b[43mnp\u001b[49m\u001b[38;5;241;43m.\u001b[39;49m\u001b[43mreshape\u001b[49m\u001b[43m(\u001b[49m\u001b[43maccuracy_values\u001b[49m\u001b[43m,\u001b[49m\u001b[43m \u001b[49m\u001b[43m(\u001b[49m\u001b[43mmatrix_size\u001b[49m\u001b[43m,\u001b[49m\u001b[43m \u001b[49m\u001b[43mmatrix_size\u001b[49m\u001b[43m)\u001b[49m\u001b[43m)\u001b[49m\n\u001b[1;32m     12\u001b[0m \u001b[38;5;66;03m# Create heatmap\u001b[39;00m\n\u001b[1;32m     13\u001b[0m fig \u001b[38;5;241m=\u001b[39m go\u001b[38;5;241m.\u001b[39mFigure(\n\u001b[1;32m     14\u001b[0m     data\u001b[38;5;241m=\u001b[39mgo\u001b[38;5;241m.\u001b[39mHeatmap(\n\u001b[1;32m     15\u001b[0m         z\u001b[38;5;241m=\u001b[39maccuracy_matrix,\n\u001b[0;32m   (...)\u001b[0m\n\u001b[1;32m     20\u001b[0m     )\n\u001b[1;32m     21\u001b[0m )\n",
      "File \u001b[0;32m<__array_function__ internals>:5\u001b[0m, in \u001b[0;36mreshape\u001b[0;34m(*args, **kwargs)\u001b[0m\n",
      "File \u001b[0;32m~/Documents/Programming/Git/honours-research/.venv/lib/python3.8/site-packages/numpy/core/fromnumeric.py:298\u001b[0m, in \u001b[0;36mreshape\u001b[0;34m(a, newshape, order)\u001b[0m\n\u001b[1;32m    198\u001b[0m \u001b[38;5;129m@array_function_dispatch\u001b[39m(_reshape_dispatcher)\n\u001b[1;32m    199\u001b[0m \u001b[38;5;28;01mdef\u001b[39;00m \u001b[38;5;21mreshape\u001b[39m(a, newshape, order\u001b[38;5;241m=\u001b[39m\u001b[38;5;124m'\u001b[39m\u001b[38;5;124mC\u001b[39m\u001b[38;5;124m'\u001b[39m):\n\u001b[1;32m    200\u001b[0m \u001b[38;5;250m    \u001b[39m\u001b[38;5;124;03m\"\"\"\u001b[39;00m\n\u001b[1;32m    201\u001b[0m \u001b[38;5;124;03m    Gives a new shape to an array without changing its data.\u001b[39;00m\n\u001b[1;32m    202\u001b[0m \n\u001b[0;32m   (...)\u001b[0m\n\u001b[1;32m    296\u001b[0m \u001b[38;5;124;03m           [5, 6]])\u001b[39;00m\n\u001b[1;32m    297\u001b[0m \u001b[38;5;124;03m    \"\"\"\u001b[39;00m\n\u001b[0;32m--> 298\u001b[0m     \u001b[38;5;28;01mreturn\u001b[39;00m \u001b[43m_wrapfunc\u001b[49m\u001b[43m(\u001b[49m\u001b[43ma\u001b[49m\u001b[43m,\u001b[49m\u001b[43m \u001b[49m\u001b[38;5;124;43m'\u001b[39;49m\u001b[38;5;124;43mreshape\u001b[39;49m\u001b[38;5;124;43m'\u001b[39;49m\u001b[43m,\u001b[49m\u001b[43m \u001b[49m\u001b[43mnewshape\u001b[49m\u001b[43m,\u001b[49m\u001b[43m \u001b[49m\u001b[43morder\u001b[49m\u001b[38;5;241;43m=\u001b[39;49m\u001b[43morder\u001b[49m\u001b[43m)\u001b[49m\n",
      "File \u001b[0;32m~/Documents/Programming/Git/honours-research/.venv/lib/python3.8/site-packages/numpy/core/fromnumeric.py:57\u001b[0m, in \u001b[0;36m_wrapfunc\u001b[0;34m(obj, method, *args, **kwds)\u001b[0m\n\u001b[1;32m     54\u001b[0m     \u001b[38;5;28;01mreturn\u001b[39;00m _wrapit(obj, method, \u001b[38;5;241m*\u001b[39margs, \u001b[38;5;241m*\u001b[39m\u001b[38;5;241m*\u001b[39mkwds)\n\u001b[1;32m     56\u001b[0m \u001b[38;5;28;01mtry\u001b[39;00m:\n\u001b[0;32m---> 57\u001b[0m     \u001b[38;5;28;01mreturn\u001b[39;00m \u001b[43mbound\u001b[49m\u001b[43m(\u001b[49m\u001b[38;5;241;43m*\u001b[39;49m\u001b[43margs\u001b[49m\u001b[43m,\u001b[49m\u001b[43m \u001b[49m\u001b[38;5;241;43m*\u001b[39;49m\u001b[38;5;241;43m*\u001b[39;49m\u001b[43mkwds\u001b[49m\u001b[43m)\u001b[49m\n\u001b[1;32m     58\u001b[0m \u001b[38;5;28;01mexcept\u001b[39;00m \u001b[38;5;167;01mTypeError\u001b[39;00m:\n\u001b[1;32m     59\u001b[0m     \u001b[38;5;66;03m# A TypeError occurs if the object does have such a method in its\u001b[39;00m\n\u001b[1;32m     60\u001b[0m     \u001b[38;5;66;03m# class, but its signature is not identical to that of NumPy's. This\u001b[39;00m\n\u001b[0;32m   (...)\u001b[0m\n\u001b[1;32m     64\u001b[0m     \u001b[38;5;66;03m# Call _wrapit from within the except clause to ensure a potential\u001b[39;00m\n\u001b[1;32m     65\u001b[0m     \u001b[38;5;66;03m# exception has a traceback chain.\u001b[39;00m\n\u001b[1;32m     66\u001b[0m     \u001b[38;5;28;01mreturn\u001b[39;00m _wrapit(obj, method, \u001b[38;5;241m*\u001b[39margs, \u001b[38;5;241m*\u001b[39m\u001b[38;5;241m*\u001b[39mkwds)\n",
      "\u001b[0;31mValueError\u001b[0m: cannot reshape array of size 450 into shape (22,22)"
     ]
    }
   ],
   "source": [
    "import plotly.graph_objects as go\n",
    "import numpy as np\n",
    "\n",
    "# Generate some random data (replace this with your actual data)\n",
    "num_models = 450\n",
    "accuracy_values = np.random.rand(num_models)\n",
    "\n",
    "# Reshape accuracy values into a matrix\n",
    "matrix_size = int(np.ceil(np.sqrt(num_models)))\n",
    "accuracy_matrix = np.reshape(accuracy_values, (matrix_size, matrix_size))\n",
    "\n",
    "# Create heatmap\n",
    "fig = go.Figure(\n",
    "    data=go.Heatmap(\n",
    "        z=accuracy_matrix,\n",
    "        colorscale=\"Viridis\",  # You can choose other color scales as well\n",
    "        zmin=0,  # Minimum value of the color scale\n",
    "        zmax=1,  # Maximum value of the color scale\n",
    "        colorbar=dict(title=\"Accuracy\"),\n",
    "    )\n",
    ")\n",
    "\n",
    "# Add title and labels\n",
    "fig.update_layout(\n",
    "    title=\"Accuracy of 450 Models\", xaxis=dict(title=\"Model\"), yaxis=dict(title=\"Model\")\n",
    ")\n",
    "\n",
    "# Show the plot\n",
    "fig.show()"
   ]
  },
  {
   "cell_type": "markdown",
   "metadata": {},
   "source": [
    "# Mel\n"
   ]
  },
  {
   "cell_type": "code",
   "execution_count": null,
   "metadata": {},
   "outputs": [],
   "source": []
  }
 ],
 "metadata": {
  "kernelspec": {
   "display_name": ".venv",
   "language": "python",
   "name": "python3"
  },
  "language_info": {
   "codemirror_mode": {
    "name": "ipython",
    "version": 3
   },
   "file_extension": ".py",
   "mimetype": "text/x-python",
   "name": "python",
   "nbconvert_exporter": "python",
   "pygments_lexer": "ipython3",
   "version": "3.8.19"
  }
 },
 "nbformat": 4,
 "nbformat_minor": 2
}
